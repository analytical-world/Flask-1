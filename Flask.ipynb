{
 "cells": [
  {
   "cell_type": "markdown",
   "id": "6cfa3ebb-c762-42a5-bcd3-7d5f985e8328",
   "metadata": {},
   "source": [
    "Q1. What is Flask Framework? What are the advantages of Flask Framework?"
   ]
  },
  {
   "cell_type": "markdown",
   "id": "ca321c5b-287e-47ee-8bb1-cb451677257d",
   "metadata": {},
   "source": [
    "Sol: Flask is a python micro framework and is used for developing web applications using python.\n",
    "Pros:\n",
    "1. it is a lightweight framewok.\n",
    "2. The Flask framework is easy to understand, that is why it is best for beginners.\n",
    "3. Highly flexible"
   ]
  },
  {
   "cell_type": "markdown",
   "id": "236c6a2f-b97f-472c-9017-e4a51a2bb36f",
   "metadata": {},
   "source": [
    "Q2. Create a simple Flask application to display ‘Hello World!!’. Attach the screenshot of the output in\n",
    "Jupyter Notebook. \n"
   ]
  },
  {
   "cell_type": "markdown",
   "id": "347fe980-2737-45f2-a9b0-0bc4f71dc480",
   "metadata": {},
   "source": [
    "Sol: Check png file(screenshot)"
   ]
  },
  {
   "cell_type": "markdown",
   "id": "cee2ca26-1c45-4004-bd7e-e472acce20f0",
   "metadata": {},
   "source": [
    "Q3. What is App routing in Flask? Why do we use app routes?"
   ]
  },
  {
   "cell_type": "markdown",
   "id": "7fa1ce45-cf65-416c-8417-af10e1a373ad",
   "metadata": {},
   "source": [
    "SOl: App routing means binding the URL to specfic fumction that will handle some logic for that URL. \n",
    "When an URL is entered in browser it will execute the function which is bind with it."
   ]
  },
  {
   "cell_type": "markdown",
   "id": "41ef7325-3249-47f6-9bb6-f56f27d4f192",
   "metadata": {},
   "source": [
    "Q4. Create a “/welcome” route to display the welcome message “Welcome to ABC Corporation” and a “/”\n",
    "route to show the following details:\n",
    "Company Name: ABC Corporation\n",
    "Location: India\n",
    "Contact Detail: 999-999-9999"
   ]
  },
  {
   "cell_type": "markdown",
   "id": "c07cac01-ae34-40d7-a0c5-4a1f7ac8d385",
   "metadata": {},
   "source": [
    "Q5. What function is used in Flask for URL Building? Write a Python code to demonstrate the working of the\n",
    "url_for() function."
   ]
  },
  {
   "cell_type": "code",
   "execution_count": null,
   "id": "22930f6d-6708-4a37-aebc-566a41718d5a",
   "metadata": {},
   "outputs": [],
   "source": [
    "from flask import Flask, redirect, url_for\n",
    "\n",
    "\n",
    "app = Flask(__name__)\n",
    "\n",
    "\n",
    "@app.route('/')\n",
    "def home():\n",
    "   return \"Welcome to the pythongeeks page!\"\n",
    "\n",
    "\n",
    "@app.route('/about')\n",
    "def about():\n",
    "   return \"This is the about page.\"\n",
    "\n",
    "\n",
    "@app.route('/profile/<username>')\n",
    "def profile(username): \n",
    "   return f\"Welcome to the profile page of {username}.\"\n",
    "\n",
    "\n",
    "@app.route('/login')\n",
    "def login():\n",
    "# Redirect to the home route\n",
    "   return redirect(url_for('home'))\n",
    "\n",
    "\n",
    "if name == 'main':\n",
    "   app.run(debug=True)"
   ]
  }
 ],
 "metadata": {
  "kernelspec": {
   "display_name": "Python 3 (ipykernel)",
   "language": "python",
   "name": "python3"
  },
  "language_info": {
   "codemirror_mode": {
    "name": "ipython",
    "version": 3
   },
   "file_extension": ".py",
   "mimetype": "text/x-python",
   "name": "python",
   "nbconvert_exporter": "python",
   "pygments_lexer": "ipython3",
   "version": "3.10.8"
  }
 },
 "nbformat": 4,
 "nbformat_minor": 5
}
